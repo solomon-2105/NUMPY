{
 "cells": [
  {
   "cell_type": "code",
   "execution_count": 6,
   "id": "149d0b15-2b8d-445b-99bb-bc32d4535815",
   "metadata": {},
   "outputs": [],
   "source": [
    "import numpy as np"
   ]
  },
  {
   "cell_type": "markdown",
   "id": "3c2ed15c-f289-4168-9230-4fbe1c94f0fa",
   "metadata": {},
   "source": [
    "NUMPY\n",
    "\n",
    "numpy>>>>>lists\n",
    "- fixed datatypes \n",
    "- requires less space (bytes of memory)\n",
    "- no typechecking when interating through objects \n",
    "- uses contiguous memory locations\n",
    "(lists arent necessarily having  contiguous memory locations)\n",
    "- effective cache utilization\n",
    "\n",
    "application: \n",
    "- mathematics  (MATLAB replacement) \n",
    "- plotting(matplotlib)\n",
    "- backend( pandas , connect 4 , digital photography)\n",
    "- machine learning domain\n",
    "\n",
    "* how install it\n",
    "==> pip install numpy\n",
    "\n",
    "NumPy (Numerical Python) is a powerful Python library for numerical and scientific computing.\n",
    "It provides:\n",
    "\n",
    "N-dimensional array object (ndarray)\n",
    "\n",
    "Tools for mathematical operations (like linear algebra, stats)\n",
    "\n",
    "Functions for random number generation\n",
    "\n",
    "Easy integration with C/C++/Fortran\n",
    "\n",
    "Efficient memory handling and vectorization\n",
    "\n",
    "Why use NumPy over regular Python lists?\n",
    "Much faster (thanks to C-level optimizations)\n",
    "\n",
    "Uses less memory\n",
    "\n",
    "Easier and more powerful for mathematical operations\n",
    "\n",
    "Supports broadcasting (applying operations across arrays of different shapes)\n",
    "\n"
   ]
  },
  {
   "cell_type": "markdown",
   "id": "afb319d4-878e-416b-a005-23556ff54739",
   "metadata": {},
   "source": [
    "\n",
    "\n",
    "### 🔧 **Topic 3: Applications of NumPy**\n",
    "\n",
    "NumPy is foundational in the Python **scientific computing ecosystem**. It’s used widely in:\n",
    "\n",
    "---\n",
    "\n",
    "#### 📊 **1. Data Analysis**\n",
    "\n",
    "* Libraries like **pandas** are built on top of NumPy.\n",
    "* All tabular data manipulations (filtering, grouping, statistics) rely on fast NumPy operations under the hood.\n",
    "\n",
    "---\n",
    "\n",
    "#### 📷 **2. Image Processing**\n",
    "\n",
    "* Images are just arrays of pixels. Libraries like **OpenCV**, **Pillow**, and **scikit-image** use NumPy arrays to store and manipulate images:\n",
    "\n",
    "  ```python\n",
    "  import cv2\n",
    "  img = cv2.imread('image.jpg')  # shape: (height, width, 3)\n",
    "  print(img.shape)\n",
    "  ```\n",
    "\n",
    "---\n",
    "\n",
    "#### 🧠 **3. Machine Learning & Deep Learning**\n",
    "\n",
    "* **Scikit-learn**, **TensorFlow**, and **PyTorch** all use NumPy internally.\n",
    "* Model inputs (features) and outputs (labels) are represented as arrays.\n",
    "\n",
    "---\n",
    "\n",
    "#### 📈 **4. Data Visualization**\n",
    "\n",
    "* Libraries like **matplotlib**, **seaborn**, and **plotly** rely on NumPy to efficiently handle large datasets during plotting.\n",
    "\n",
    "---\n",
    "\n",
    "#### 🔬 **5. Scientific Simulations**\n",
    "\n",
    "* Used in physics, chemistry, biology, and finance for simulations, numerical methods, etc.\n",
    "\n",
    "---\n",
    "\n",
    "#### 🧮 **6. Linear Algebra & Statistics**\n",
    "\n",
    "* NumPy offers efficient implementations of:\n",
    "\n",
    "  * Matrix multiplication\n",
    "  * Eigenvalues & eigenvectors\n",
    "  * Mean, median, standard deviation, correlation, etc."
   ]
  },
  {
   "cell_type": "code",
   "execution_count": 45,
   "id": "99337389-5611-4d40-af1b-d7acac2e8dd2",
   "metadata": {},
   "outputs": [
    {
     "name": "stdout",
     "output_type": "stream",
     "text": [
      "List time: 0.12238788604736328\n",
      "NumPy time: 0.00447392463684082\n"
     ]
    }
   ],
   "source": [
    "import numpy as np\n",
    "import time\n",
    "\n",
    "# Python list\n",
    "list1 = list(range(1000000))\n",
    "start = time.time()\n",
    "list_sum = [x + 1 for x in list1]\n",
    "end = time.time()\n",
    "print(\"List time:\", end - start)\n",
    "\n",
    "# NumPy array\n",
    "arr = np.arange(1000000)\n",
    "start = time.time()\n",
    "arr_sum = arr + 1\n",
    "end = time.time()\n",
    "print(\"NumPy time:\", end - start)\n"
   ]
  },
  {
   "cell_type": "code",
   "execution_count": null,
   "id": "d5938152-35c7-4efc-9c15-0667010358bb",
   "metadata": {},
   "outputs": [],
   "source": [
    "🔧 Functionality\n",
    "NumPy supports vectorized operations:"
   ]
  },
  {
   "cell_type": "code",
   "execution_count": 46,
   "id": "f9da9ef6-a1f0-409a-b767-e3c264d09bc0",
   "metadata": {},
   "outputs": [
    {
     "name": "stdout",
     "output_type": "stream",
     "text": [
      "[2 4 6]\n"
     ]
    }
   ],
   "source": [
    "arr = np.array([1, 2, 3])\n",
    "print(arr * 2)  # Output: [2 4 6]\n"
   ]
  },
  {
   "cell_type": "markdown",
   "id": "47668050-3c8f-4a6e-b27a-06020fa02ab1",
   "metadata": {},
   "source": [
    "Lists require a loop for the same:"
   ]
  },
  {
   "cell_type": "code",
   "execution_count": 47,
   "id": "ca6331b7-5893-44d4-9c83-fe1f7bfc29bd",
   "metadata": {},
   "outputs": [
    {
     "name": "stdout",
     "output_type": "stream",
     "text": [
      "[2, 4, 6]\n"
     ]
    }
   ],
   "source": [
    "lst = [1, 2, 3]\n",
    "print([x * 2 for x in lst])\n"
   ]
  },
  {
   "cell_type": "markdown",
   "id": "c0d758e5-da3c-4eec-80ac-37c992160fe4",
   "metadata": {},
   "source": [
    "Result: NumPy will be multiple times faster."
   ]
  },
  {
   "cell_type": "code",
   "execution_count": 20,
   "id": "6301fa0b-10d2-4df9-ad5b-1ea89fbde9a4",
   "metadata": {},
   "outputs": [
    {
     "data": {
      "text/plain": [
       "array([1, 2, 4], dtype=int16)"
      ]
     },
     "execution_count": 20,
     "metadata": {},
     "output_type": "execute_result"
    }
   ],
   "source": [
    "a=np.array([1,2,4], dtype=\"int16\")\n",
    "a"
   ]
  },
  {
   "cell_type": "code",
   "execution_count": 12,
   "id": "aaae3e8b-3e30-41ef-8bb4-bca0bf1c5f2e",
   "metadata": {},
   "outputs": [
    {
     "name": "stdout",
     "output_type": "stream",
     "text": [
      "[[1.2 4.5 8.9]\n",
      " [1.  2.  3. ]]\n"
     ]
    }
   ],
   "source": [
    "b=np.array([[1.2,4.5,8.9],[1,2,3]])\n",
    "print(b)"
   ]
  },
  {
   "cell_type": "code",
   "execution_count": 16,
   "id": "b1860e36-3fb3-4651-acbf-941880017c2d",
   "metadata": {},
   "outputs": [
    {
     "data": {
      "text/plain": [
       "2"
      ]
     },
     "execution_count": 16,
     "metadata": {},
     "output_type": "execute_result"
    }
   ],
   "source": [
    "b.ndim # get no of dimensions\n"
   ]
  },
  {
   "cell_type": "code",
   "execution_count": 18,
   "id": "55733d1e-674b-4ca7-9633-c981aba92b65",
   "metadata": {},
   "outputs": [
    {
     "data": {
      "text/plain": [
       "(2, 3)"
      ]
     },
     "execution_count": 18,
     "metadata": {},
     "output_type": "execute_result"
    }
   ],
   "source": [
    "b.shape # get size or shape of array"
   ]
  },
  {
   "cell_type": "code",
   "execution_count": 21,
   "id": "6055b77d-eae5-4303-858e-6bfa4fb1fc85",
   "metadata": {},
   "outputs": [
    {
     "data": {
      "text/plain": [
       "dtype('int16')"
      ]
     },
     "execution_count": 21,
     "metadata": {},
     "output_type": "execute_result"
    }
   ],
   "source": [
    "a.dtype # get datatype"
   ]
  },
  {
   "cell_type": "code",
   "execution_count": 22,
   "id": "542ce8f5-51d4-4678-ae4a-217195709c98",
   "metadata": {},
   "outputs": [
    {
     "data": {
      "text/plain": [
       "2"
      ]
     },
     "execution_count": 22,
     "metadata": {},
     "output_type": "execute_result"
    }
   ],
   "source": [
    "a.itemsize # varies based on int32 or int16"
   ]
  },
  {
   "cell_type": "code",
   "execution_count": 23,
   "id": "a062e221-e255-445e-b1de-4c8c132ff8ef",
   "metadata": {},
   "outputs": [
    {
     "data": {
      "text/plain": [
       "3"
      ]
     },
     "execution_count": 23,
     "metadata": {},
     "output_type": "execute_result"
    }
   ],
   "source": [
    "a.size"
   ]
  },
  {
   "cell_type": "code",
   "execution_count": 24,
   "id": "1ebd2d4e-cd96-439c-804a-b44f45b81f64",
   "metadata": {},
   "outputs": [
    {
     "data": {
      "text/plain": [
       "6"
      ]
     },
     "execution_count": 24,
     "metadata": {},
     "output_type": "execute_result"
    }
   ],
   "source": [
    "a.nbytes # or a.itemsize * a.size"
   ]
  },
  {
   "cell_type": "code",
   "execution_count": 26,
   "id": "bc8556d2-a43f-46f1-9024-b9561bfd3bbc",
   "metadata": {},
   "outputs": [
    {
     "data": {
      "text/plain": [
       "array([[ 1,  2,  3,  4,  5,  6,  7],\n",
       "       [ 8,  9, 10, 11, 12, 13, 14]])"
      ]
     },
     "execution_count": 26,
     "metadata": {},
     "output_type": "execute_result"
    }
   ],
   "source": [
    "a=np.array([[1,2,3,4,5,6,7],[8,9,10,11,12,13,14]])\n",
    "a"
   ]
  },
  {
   "cell_type": "code",
   "execution_count": 51,
   "id": "b2d4159f-1385-45c8-b7bf-6e936a5d1f9d",
   "metadata": {},
   "outputs": [
    {
     "data": {
      "text/plain": [
       "array([[ 1,  2,  3],\n",
       "       [ 4, 99,  6]])"
      ]
     },
     "execution_count": 51,
     "metadata": {},
     "output_type": "execute_result"
    }
   ],
   "source": [
    "# get a specific element\n",
    "a = np.array([[1, 2, 3], [4, 5, 6]])\n",
    "a[1, 1] = 99\n",
    "a"
   ]
  },
  {
   "cell_type": "code",
   "execution_count": 52,
   "id": "78d828ee-a3a5-40ff-a88e-c39fc9ecb310",
   "metadata": {},
   "outputs": [
    {
     "name": "stdout",
     "output_type": "stream",
     "text": [
      "[[10 12]\n",
      " [20 22]\n",
      " [30 32]]\n"
     ]
    }
   ],
   "source": [
    "import numpy as np\n",
    "a = np.array([[10,11,12,13],\n",
    "              [20,21,22,23],\n",
    "              [30,31,32,33],\n",
    "              [40,41,42,43]])\n",
    "\n",
    "print(a[:3, ::2])\n"
   ]
  },
  {
   "cell_type": "markdown",
   "id": "a95ac481-9f70-4691-98ad-e375141b3469",
   "metadata": {},
   "source": [
    "In NumPy 2D arrays, slicing follows this format:\n",
    "\n",
    "a[row_start:row_stop:row_step, col_start:col_stop:col_step]\n",
    "\n",
    "Before the comma → for rows\n",
    "After the comma → for columns"
   ]
  },
  {
   "cell_type": "code",
   "execution_count": 54,
   "id": "fcafaaf6-33cb-40be-b200-f7d0d2391b57",
   "metadata": {},
   "outputs": [
    {
     "name": "stdout",
     "output_type": "stream",
     "text": [
      "[[10 30]\n",
      " [70 90]]\n"
     ]
    }
   ],
   "source": [
    "a = np.array([[10, 20, 30],\n",
    "              [40, 50, 60],\n",
    "              [70, 80, 90]])\n",
    "\n",
    "print(a[0:3:2, 0:3:2])"
   ]
  },
  {
   "cell_type": "markdown",
   "id": "8bca2fcf-9f5b-4ff2-94cc-fd3ef9e8399d",
   "metadata": {},
   "source": [
    "1. Creating an Array of Zeros\n",
    "You can create an array filled with zeros using np.zeros(shape):"
   ]
  },
  {
   "cell_type": "markdown",
   "id": "94d289d8-af63-4905-a72e-1866dcfe86c1",
   "metadata": {},
   "source": [
    "2. Creating an Array of Ones\n",
    "To create an array filled with ones, use np.ones(shape):"
   ]
  },
  {
   "cell_type": "code",
   "execution_count": 57,
   "id": "f68f8b32-b2b3-4cac-ad02-71763d4952e5",
   "metadata": {},
   "outputs": [
    {
     "name": "stdout",
     "output_type": "stream",
     "text": [
      "[[0. 0. 0.]\n",
      " [0. 0. 0.]\n",
      " [0. 0. 0.]]\n",
      "\n",
      "[[1. 1. 1. 1.]\n",
      " [1. 1. 1. 1.]]\n"
     ]
    }
   ],
   "source": [
    "print(np.zeros((3, 3)))# 3x3 array of zeros\n",
    "print()\n",
    "print(np.ones((2, 4)))  # 2x4 array of ones\n"
   ]
  },
  {
   "cell_type": "markdown",
   "id": "52f04970-bf79-478c-894c-9e8ba10e64cc",
   "metadata": {},
   "source": [
    "3. Creating an Array with a Specific Value\n",
    "You can create an array filled with a specific value using np.full(shape, fill_value):"
   ]
  },
  {
   "cell_type": "code",
   "execution_count": 58,
   "id": "8e7754e7-6384-4a10-a3ec-974ebcd74300",
   "metadata": {},
   "outputs": [
    {
     "data": {
      "text/plain": [
       "array([[7, 7, 7],\n",
       "       [7, 7, 7]])"
      ]
     },
     "execution_count": 58,
     "metadata": {},
     "output_type": "execute_result"
    }
   ],
   "source": [
    "a=np.full((2, 3), 7)  # 2x3 array filled with 7\n",
    "a"
   ]
  },
  {
   "cell_type": "markdown",
   "id": "d41de1a3-a47c-40eb-af29-273ac8b3744b",
   "metadata": {},
   "source": [
    "4. Creating an Identity Matrix\n",
    "An identity matrix has 1s on the diagonal and 0s elsewhere. Use np.eye(n):"
   ]
  },
  {
   "cell_type": "code",
   "execution_count": 59,
   "id": "7657311c-4ad4-4d8b-b978-cafb0826b281",
   "metadata": {},
   "outputs": [
    {
     "data": {
      "text/plain": [
       "array([[1., 0., 0., 0.],\n",
       "       [0., 1., 0., 0.],\n",
       "       [0., 0., 1., 0.],\n",
       "       [0., 0., 0., 1.]])"
      ]
     },
     "execution_count": 59,
     "metadata": {},
     "output_type": "execute_result"
    }
   ],
   "source": [
    "np.eye(4)  # 4x4 identity matrix\n"
   ]
  },
  {
   "cell_type": "markdown",
   "id": "98a09081-1d44-40c1-a95b-da14470400a5",
   "metadata": {},
   "source": [
    "5. Creating a Random Array\n",
    "You can generate random arrays with numbers from a uniform distribution between 0 and 1 using np.random.rand():"
   ]
  },
  {
   "cell_type": "code",
   "execution_count": 60,
   "id": "01c606aa-0652-4615-83b9-69bbd196b1c5",
   "metadata": {},
   "outputs": [
    {
     "data": {
      "text/plain": [
       "array([[0.94556474, 0.72813345],\n",
       "       [0.10256866, 0.26424028],\n",
       "       [0.89099448, 0.23802723]])"
      ]
     },
     "execution_count": 60,
     "metadata": {},
     "output_type": "execute_result"
    }
   ],
   "source": [
    "np.random.rand(3, 2)  # 3x2 random array\n"
   ]
  },
  {
   "cell_type": "markdown",
   "id": "73fdeb23-7807-4c54-9007-0d55c9393ee5",
   "metadata": {},
   "source": [
    "6. Creating a Sequence of Numbers (using np.arange())\n",
    "You can create a range of numbers using np.arange(start, stop, step):"
   ]
  },
  {
   "cell_type": "code",
   "execution_count": 61,
   "id": "adf8e35b-7284-4999-921b-fcb4defc55ae",
   "metadata": {},
   "outputs": [
    {
     "data": {
      "text/plain": [
       "array([0, 2, 4, 6, 8])"
      ]
     },
     "execution_count": 61,
     "metadata": {},
     "output_type": "execute_result"
    }
   ],
   "source": [
    "np.arange(0, 10, 2)  # Output: [0, 2, 4, 6, 8]\n"
   ]
  },
  {
   "cell_type": "markdown",
   "id": "b3a31ffb-13fd-471c-a8eb-2d8fb63ac181",
   "metadata": {},
   "source": [
    "1. Basic Arithmetic Operations\n",
    "You can perform element-wise arithmetic operations on arrays:"
   ]
  },
  {
   "cell_type": "code",
   "execution_count": 64,
   "id": "3a27a61d-1123-4646-91f5-05825000fdc4",
   "metadata": {},
   "outputs": [
    {
     "name": "stdout",
     "output_type": "stream",
     "text": [
      "[5 7 9]\n",
      "\n",
      "[-3 -3 -3]\n",
      "\n",
      "[ 4 10 18]\n",
      "\n",
      "[4.  2.5 2. ]\n",
      "\n"
     ]
    }
   ],
   "source": [
    "a = np.array([1, 2, 3])\n",
    "b = np.array([4, 5, 6])\n",
    "print(a + b)  # Output: [5, 7, 9]\n",
    "print()\n",
    "print(a - b) \n",
    "print()\n",
    "print(a * b) \n",
    "print()\n",
    "print(b / a) \n",
    "print()"
   ]
  },
  {
   "cell_type": "markdown",
   "id": "1e741723-c22a-44f3-95ca-aa6e21e45405",
   "metadata": {},
   "source": [
    "2. Universal Functions (ufuncs)\n",
    "NumPy provides mathematical functions that operate element-wise on arrays. These are called ufuncs (universal functions)."
   ]
  },
  {
   "cell_type": "code",
   "execution_count": 69,
   "id": "d8592637-be39-4c2f-b5bb-99e5f2c2905d",
   "metadata": {},
   "outputs": [
    {
     "name": "stdout",
     "output_type": "stream",
     "text": [
      "[5.47722558 6.70820393 9.48683298]\n"
     ]
    }
   ],
   "source": [
    "a=np.array([30,45,90],dtype=\"int64\")\n",
    "print(np.sqrt(a))"
   ]
  },
  {
   "cell_type": "code",
   "execution_count": 70,
   "id": "3edf6134-3f05-4c98-8841-67adee265489",
   "metadata": {},
   "outputs": [
    {
     "data": {
      "text/plain": [
       "array([1.06864746e+13, 3.49342711e+19, 1.22040329e+39])"
      ]
     },
     "execution_count": 70,
     "metadata": {},
     "output_type": "execute_result"
    }
   ],
   "source": [
    "np.exp(a)  # Output: [2.71828183 7.3890561  20.08553692]\n"
   ]
  },
  {
   "cell_type": "code",
   "execution_count": 72,
   "id": "b058356d-6fe8-42b5-9dd5-3c036dd5d603",
   "metadata": {},
   "outputs": [
    {
     "name": "stdout",
     "output_type": "stream",
     "text": [
      "[-0.98803162  0.85090352  0.89399666]\n",
      "\n"
     ]
    },
    {
     "data": {
      "text/plain": [
       "array([ 0.15425145,  0.52532199, -0.44807362])"
      ]
     },
     "execution_count": 72,
     "metadata": {},
     "output_type": "execute_result"
    }
   ],
   "source": [
    "print(np.sin(a))# Sine of each element in 'a'\n",
    "print()\n",
    "np.cos(a)  # Cosine of each element in 'a'\n"
   ]
  },
  {
   "cell_type": "markdown",
   "id": "d9c96deb-b783-4382-89a6-b8d6ba571170",
   "metadata": {},
   "source": [
    "3. Aggregation Functions\n",
    "These functions perform operations on the entire array."
   ]
  },
  {
   "cell_type": "code",
   "execution_count": 76,
   "id": "6c69e9a6-32bf-4095-9dc5-21594679c656",
   "metadata": {},
   "outputs": [
    {
     "name": "stdout",
     "output_type": "stream",
     "text": [
      "6\n",
      "2.0\n",
      "1\n",
      "3\n"
     ]
    }
   ],
   "source": [
    "a=np.array([1,2,3])\n",
    "print(np.sum(a))\n",
    "print(np.mean(a))\n",
    "print(np.min(a))\n",
    "print(np.max(a))"
   ]
  },
  {
   "cell_type": "markdown",
   "id": "8d780f04-27e6-4321-afad-a670eb78cfa5",
   "metadata": {},
   "source": [
    "4. Matrix Multiplication (Dot Product)\n",
    "You can multiply two arrays using the dot product:"
   ]
  },
  {
   "cell_type": "code",
   "execution_count": 77,
   "id": "14b5f414-bc3e-4c81-b121-cc445cfb2ca3",
   "metadata": {},
   "outputs": [
    {
     "data": {
      "text/plain": [
       "array([[ 18,  24,  30],\n",
       "       [ 54,  69,  84],\n",
       "       [ 90, 114, 138]])"
      ]
     },
     "execution_count": 77,
     "metadata": {},
     "output_type": "execute_result"
    }
   ],
   "source": [
    "a=np.array([[1,2,3],[4,5,6],[7,8,9]])\n",
    "b=np.array([[7,8,9],[4,5,6],[1,2,3]])\n",
    "np.dot(a, b) "
   ]
  },
  {
   "cell_type": "code",
   "execution_count": 79,
   "id": "0ce5d5c6-faa9-4bec-8bb2-c5803a326eb5",
   "metadata": {},
   "outputs": [
    {
     "name": "stdout",
     "output_type": "stream",
     "text": [
      "32\n"
     ]
    }
   ],
   "source": [
    "a = np.array([1, 2, 3])\n",
    "b = np.array([4, 5, 6])\n",
    "print(np.dot(a, b))  # Output: 32 (1*4 + 2*5 + 3*6)\n"
   ]
  },
  {
   "cell_type": "markdown",
   "id": "990f9b6c-ea7e-479f-bd03-f8964fba5c20",
   "metadata": {},
   "source": [
    "2. Matrix Determinant\n",
    "For a square matrix, you can calculate the determinant:"
   ]
  },
  {
   "cell_type": "code",
   "execution_count": 80,
   "id": "16abd993-a47e-4ca3-a8c4-0eeb8dadaed8",
   "metadata": {},
   "outputs": [
    {
     "data": {
      "text/plain": [
       "np.float64(-2.0000000000000004)"
      ]
     },
     "execution_count": 80,
     "metadata": {},
     "output_type": "execute_result"
    }
   ],
   "source": [
    "A = np.array([[1, 2], [3, 4]])\n",
    "np.linalg.det(A)  # Output: -2.0\n"
   ]
  },
  {
   "cell_type": "markdown",
   "id": "5de3f0ba-a9ab-4a32-b7f6-48a854c6b387",
   "metadata": {},
   "source": [
    "3. Matrix Inverse\n",
    "If a matrix is invertible (determinant ≠ 0), you can calculate its inverse:"
   ]
  },
  {
   "cell_type": "code",
   "execution_count": 81,
   "id": "20cf91e1-561a-43a6-8e39-df2dba1066b0",
   "metadata": {},
   "outputs": [
    {
     "data": {
      "text/plain": [
       "array([[-2. ,  1. ],\n",
       "       [ 1.5, -0.5]])"
      ]
     },
     "execution_count": 81,
     "metadata": {},
     "output_type": "execute_result"
    }
   ],
   "source": [
    "A = np.array([[1, 2], [3, 4]])\n",
    "np.linalg.inv(A)\n",
    "# Output:\n",
    "# [[-2.   1. ]\n",
    "#  [ 1.5 -0.5]]\n"
   ]
  },
  {
   "cell_type": "markdown",
   "id": "230e7cd8-f7de-4f3b-9769-e9956c8f90d1",
   "metadata": {},
   "source": [
    "4. Eigenvalues and Eigenvectors\n",
    "You can compute the eigenvalues and eigenvectors of a matrix:"
   ]
  },
  {
   "cell_type": "code",
   "execution_count": 87,
   "id": "41df1c3d-f6f1-495f-be55-b15eaafc4634",
   "metadata": {},
   "outputs": [
    {
     "name": "stdout",
     "output_type": "stream",
     "text": [
      "[-0.37228132  5.37228132]\n",
      "\n",
      "\n",
      "[[-0.82456484 -0.41597356]\n",
      " [ 0.56576746 -0.90937671]]\n"
     ]
    }
   ],
   "source": [
    "A = np.array([[1, 2], [3, 4]])\n",
    "eigenvalues, eigenvectors = np.linalg.eig(A)\n",
    "print(eigenvalues)\n",
    "print(\"\\n\")\n",
    "print(eigenvectors)"
   ]
  },
  {
   "cell_type": "markdown",
   "id": "ee3d715c-580c-4d4f-ba9e-d027f3ee7331",
   "metadata": {},
   "source": [
    "5. Solving Linear Equations\n",
    "NumPy also helps to solve linear equations of the form Ax = b:"
   ]
  },
  {
   "cell_type": "code",
   "execution_count": 89,
   "id": "9bd76f20-1cc9-4208-b9da-3b33c7cf8447",
   "metadata": {},
   "outputs": [
    {
     "name": "stdout",
     "output_type": "stream",
     "text": [
      "[0.8 2.3]\n"
     ]
    }
   ],
   "source": [
    "A = np.array([[3, 2], [1, 4]])\n",
    "b = np.array([7, 10])\n",
    "x = np.linalg.solve(A, b)  # Solves for x in Ax = b\n",
    "print(x)"
   ]
  },
  {
   "cell_type": "markdown",
   "id": "1e2b2a5a-c1fd-4e54-9da8-0a6e0d02ba7d",
   "metadata": {},
   "source": [
    "Let's visualize this in terms of equations.\n",
    "\n",
    "We have:\n",
    "\n",
    "```python\n",
    "A = np.array([[3, 2],\n",
    "              [1, 4]])\n",
    "b = np.array([7, 10])\n",
    "```\n",
    "\n",
    "This represents the **matrix equation**:\n",
    "\n",
    "$$\n",
    "\\begin{bmatrix}\n",
    "3 & 2 \\\\\n",
    "1 & 4 \\\\\n",
    "\\end{bmatrix}\n",
    "\\begin{bmatrix}\n",
    "x \\\\\n",
    "y \\\\\n",
    "\\end{bmatrix}\n",
    "=\n",
    "\\begin{bmatrix}\n",
    "7 \\\\\n",
    "10 \\\\\n",
    "\\end{bmatrix}\n",
    "$$\n",
    "\n",
    "Which means you're solving this **system of linear equations**:\n",
    "\n",
    "$$\n",
    "\\begin{cases}\n",
    "3x + 2y = 7 \\\\\n",
    "x + 4y = 10 \\\\\n",
    "\\end{cases}\n",
    "$$\n",
    "\n",
    "When you use:\n",
    "\n",
    "```python\n",
    "x = np.linalg.solve(A, b)\n",
    "```\n",
    "\n",
    "NumPy gives you the solution for $x$ and $y$ that satisfies both equations.\n",
    "\n"
   ]
  },
  {
   "cell_type": "markdown",
   "id": "cfab4747-0f39-46b1-82fe-2956bde9f692",
   "metadata": {},
   "source": [
    "### 🧮 **Statistics with NumPy**\n",
    "\n",
    "NumPy provides powerful statistical functions to perform operations on arrays. Here are the most commonly used ones:\n",
    "\n",
    "---\n",
    "\n",
    "### 1. **Mean (Average)**\n",
    "\n",
    "```python\n",
    "np.mean(array)\n",
    "```\n",
    "\n",
    "Returns the average of all elements.\n",
    "\n",
    "---\n",
    "\n",
    "### 2. **Median**\n",
    "\n",
    "```python\n",
    "np.median(array)\n",
    "```\n",
    "\n",
    "Returns the middle value of the array (or average of two middle values if even number of elements).\n",
    "\n",
    "---\n",
    "\n",
    "### 3. **Standard Deviation**\n",
    "\n",
    "```python\n",
    "np.std(array)\n",
    "```\n",
    "\n",
    "Tells how spread out the numbers are from the mean.\n",
    "\n",
    "---\n",
    "\n",
    "### 4. **Variance**\n",
    "\n",
    "```python\n",
    "np.var(array)\n",
    "```\n",
    "\n",
    "Gives the average of the squared deviations from the mean.\n",
    "\n",
    "---\n",
    "\n",
    "### 5. **Min and Max**\n",
    "\n",
    "```python\n",
    "np.min(array)\n",
    "np.max(array)\n",
    "```\n",
    "\n",
    "Returns the smallest and largest element.\n",
    "\n",
    "---\n",
    "\n",
    "### 6. **Sum and Product**\n",
    "\n",
    "```python\n",
    "np.sum(array)\n",
    "np.prod(array)\n",
    "```\n",
    "\n",
    "Gives total sum or total product of elements.\n",
    "\n",
    "---\n",
    "\n",
    "### 7. **Percentile**\n",
    "\n",
    "```python\n",
    "np.percentile(array, q)\n",
    "```\n",
    "\n",
    "Returns the q-th percentile (e.g. 50 for median, 25 for Q1, 75 for Q3).\n",
    "\n",
    "---\n",
    "\n",
    "### 8. **Argmin and Argmax**\n",
    "\n",
    "```python\n",
    "np.argmin(array)\n",
    "np.argmax(array)\n",
    "```\n",
    "\n",
    "Gives the index of the minimum or maximum element.\n"
   ]
  },
  {
   "cell_type": "markdown",
   "id": "ef2308b8-42d5-4feb-aaf8-89f2259bc3bb",
   "metadata": {},
   "source": [
    "\n",
    "If your dataset is in a NumPy array format, here's how it works:\n",
    "\n",
    "### Example:\n",
    "\n",
    "```python\n",
    "import numpy as np\n",
    "\n",
    "data = np.array([[1, 2, 3],\n",
    "                 [4, 5, 6],\n",
    "                 [7, 8, 9]])\n",
    "\n",
    "std_all = np.std(data)\n",
    "var_all = np.var(data)\n",
    "```\n",
    "\n",
    "* `np.std(data)` → gives the **standard deviation** of all elements combined.\n",
    "* `np.var(data)` → gives the **variance** of all elements combined.\n",
    "\n",
    "### Axis-wise:\n",
    "\n",
    "If you want to apply it **row-wise or column-wise**, use the `axis` parameter:\n",
    "\n",
    "* `np.std(data, axis=0)` → standard deviation **column-wise**\n",
    "* `np.std(data, axis=1)` → standard deviation **row-wise**\n",
    "\n",
    "Same for variance with `np.var()`."
   ]
  },
  {
   "cell_type": "markdown",
   "id": "ef924632-2864-4d08-b7af-de6152ede2b7",
   "metadata": {},
   "source": [
    "✅ Reorganizing Arrays in NumPy\n",
    "NumPy provides multiple ways to reshape and stack arrays efficiently:\n",
    "\n",
    "📌 reshape()\n",
    "Used to change the shape of an array without changing its data:"
   ]
  },
  {
   "cell_type": "code",
   "execution_count": 98,
   "id": "28fcd317-620d-456c-b703-405077794eab",
   "metadata": {},
   "outputs": [],
   "source": [
    "a = np.array([1, 2, 3, 4, 5, 6])\n",
    "a=a.reshape(2, 3)\n",
    "# Shape becomes (2 rows, 3 columns)\n",
    "# Total elements must remain the same"
   ]
  },
  {
   "cell_type": "markdown",
   "id": "44a214e7-c8e8-4197-b971-9f791015427d",
   "metadata": {},
   "source": [
    "📌 ravel() vs flatten()\n",
    "Both convert multi-dimensional arrays to 1D."
   ]
  },
  {
   "cell_type": "code",
   "execution_count": 99,
   "id": "dc043683-f293-47dd-9a3d-565251cc7ffa",
   "metadata": {},
   "outputs": [
    {
     "data": {
      "text/plain": [
       "array([[1, 4],\n",
       "       [2, 5],\n",
       "       [3, 6]])"
      ]
     },
     "execution_count": 99,
     "metadata": {},
     "output_type": "execute_result"
    }
   ],
   "source": [
    "a.T\n"
   ]
  },
  {
   "cell_type": "code",
   "execution_count": 100,
   "id": "97219a7b-c796-4aed-93c7-0ca814eed7f5",
   "metadata": {},
   "outputs": [
    {
     "data": {
      "text/plain": [
       "array([[1, 2, 3],\n",
       "       [4, 5, 6]])"
      ]
     },
     "execution_count": 100,
     "metadata": {},
     "output_type": "execute_result"
    }
   ],
   "source": [
    "# 📌 vstack() (vertical stack)\n",
    "# Stacks arrays vertically (row-wise):\n",
    "a = np.array([1, 2, 3])\n",
    "b = np.array([4, 5, 6])\n",
    "np.vstack((a, b))"
   ]
  },
  {
   "cell_type": "code",
   "execution_count": 101,
   "id": "40619a9e-6aed-43ec-9f8d-b8ff27eca645",
   "metadata": {},
   "outputs": [
    {
     "data": {
      "text/plain": [
       "array([1, 2, 3, 4, 5, 6])"
      ]
     },
     "execution_count": 101,
     "metadata": {},
     "output_type": "execute_result"
    }
   ],
   "source": [
    "# 📌 hstack() (horizontal stack)\n",
    "# Stacks arrays side-by-side (column-wise):\n",
    "np.hstack((a, b))\n"
   ]
  },
  {
   "cell_type": "markdown",
   "id": "a003ff74-fdb3-4c83-a6d6-5d31c7ee6ec3",
   "metadata": {},
   "source": [
    "✅ Load data from a file using NumPy\n",
    "\n",
    "1️⃣ Using np.loadtxt() (if your CSV has only numeric data)\n",
    "\n",
    "import numpy as np\n",
    "\n",
    "data = np.loadtxt(r\"C:\\Users\\user\\Downloads\\iris.csv\", delimiter=\",\", skiprows=1, dtype=float)\n",
    "\n",
    "print(data)\n",
    "\n",
    "⚠️ If your CSV has text columns (like species names), loadtxt() will fail. Use genfromtxt() instead.\n",
    "\n"
   ]
  },
  {
   "cell_type": "code",
   "execution_count": 104,
   "id": "6b5c3636-9a9e-4b6e-ab5d-7147e7a47074",
   "metadata": {},
   "outputs": [
    {
     "name": "stdout",
     "output_type": "stream",
     "text": [
      "[(5.1, 3.5, 1.4, 0.2, 'setosa') (4.9, 3. , 1.4, 0.2, 'setosa')\n",
      " (4.7, 3.2, 1.3, 0.2, 'setosa') (4.6, 3.1, 1.5, 0.2, 'setosa')\n",
      " (5. , 3.6, 1.4, 0.2, 'setosa') (5.4, 3.9, 1.7, 0.4, 'setosa')\n",
      " (4.6, 3.4, 1.4, 0.3, 'setosa') (5. , 3.4, 1.5, 0.2, 'setosa')\n",
      " (4.4, 2.9, 1.4, 0.2, 'setosa') (4.9, 3.1, 1.5, 0.1, 'setosa')\n",
      " (5.4, 3.7, 1.5, 0.2, 'setosa') (4.8, 3.4, 1.6, 0.2, 'setosa')\n",
      " (4.8, 3. , 1.4, 0.1, 'setosa') (4.3, 3. , 1.1, 0.1, 'setosa')\n",
      " (5.8, 4. , 1.2, 0.2, 'setosa') (5.7, 4.4, 1.5, 0.4, 'setosa')\n",
      " (5.4, 3.9, 1.3, 0.4, 'setosa') (5.1, 3.5, 1.4, 0.3, 'setosa')\n",
      " (5.7, 3.8, 1.7, 0.3, 'setosa') (5.1, 3.8, 1.5, 0.3, 'setosa')\n",
      " (5.4, 3.4, 1.7, 0.2, 'setosa') (5.1, 3.7, 1.5, 0.4, 'setosa')\n",
      " (4.6, 3.6, 1. , 0.2, 'setosa') (5.1, 3.3, 1.7, 0.5, 'setosa')\n",
      " (4.8, 3.4, 1.9, 0.2, 'setosa') (5. , 3. , 1.6, 0.2, 'setosa')\n",
      " (5. , 3.4, 1.6, 0.4, 'setosa') (5.2, 3.5, 1.5, 0.2, 'setosa')\n",
      " (5.2, 3.4, 1.4, 0.2, 'setosa') (4.7, 3.2, 1.6, 0.2, 'setosa')\n",
      " (4.8, 3.1, 1.6, 0.2, 'setosa') (5.4, 3.4, 1.5, 0.4, 'setosa')\n",
      " (5.2, 4.1, 1.5, 0.1, 'setosa') (5.5, 4.2, 1.4, 0.2, 'setosa')\n",
      " (4.9, 3.1, 1.5, 0.1, 'setosa') (5. , 3.2, 1.2, 0.2, 'setosa')\n",
      " (5.5, 3.5, 1.3, 0.2, 'setosa') (4.9, 3.1, 1.5, 0.1, 'setosa')\n",
      " (4.4, 3. , 1.3, 0.2, 'setosa') (5.1, 3.4, 1.5, 0.2, 'setosa')\n",
      " (5. , 3.5, 1.3, 0.3, 'setosa') (4.5, 2.3, 1.3, 0.3, 'setosa')\n",
      " (4.4, 3.2, 1.3, 0.2, 'setosa') (5. , 3.5, 1.6, 0.6, 'setosa')\n",
      " (5.1, 3.8, 1.9, 0.4, 'setosa') (4.8, 3. , 1.4, 0.3, 'setosa')\n",
      " (5.1, 3.8, 1.6, 0.2, 'setosa') (4.6, 3.2, 1.4, 0.2, 'setosa')\n",
      " (5.3, 3.7, 1.5, 0.2, 'setosa') (5. , 3.3, 1.4, 0.2, 'setosa')\n",
      " (7. , 3.2, 4.7, 1.4, 'versicolor') (6.4, 3.2, 4.5, 1.5, 'versicolor')\n",
      " (6.9, 3.1, 4.9, 1.5, 'versicolor') (5.5, 2.3, 4. , 1.3, 'versicolor')\n",
      " (6.5, 2.8, 4.6, 1.5, 'versicolor') (5.7, 2.8, 4.5, 1.3, 'versicolor')\n",
      " (6.3, 3.3, 4.7, 1.6, 'versicolor') (4.9, 2.4, 3.3, 1. , 'versicolor')\n",
      " (6.6, 2.9, 4.6, 1.3, 'versicolor') (5.2, 2.7, 3.9, 1.4, 'versicolor')\n",
      " (5. , 2. , 3.5, 1. , 'versicolor') (5.9, 3. , 4.2, 1.5, 'versicolor')\n",
      " (6. , 2.2, 4. , 1. , 'versicolor') (6.1, 2.9, 4.7, 1.4, 'versicolor')\n",
      " (5.6, 2.9, 3.6, 1.3, 'versicolor') (6.7, 3.1, 4.4, 1.4, 'versicolor')\n",
      " (5.6, 3. , 4.5, 1.5, 'versicolor') (5.8, 2.7, 4.1, 1. , 'versicolor')\n",
      " (6.2, 2.2, 4.5, 1.5, 'versicolor') (5.6, 2.5, 3.9, 1.1, 'versicolor')\n",
      " (5.9, 3.2, 4.8, 1.8, 'versicolor') (6.1, 2.8, 4. , 1.3, 'versicolor')\n",
      " (6.3, 2.5, 4.9, 1.5, 'versicolor') (6.1, 2.8, 4.7, 1.2, 'versicolor')\n",
      " (6.4, 2.9, 4.3, 1.3, 'versicolor') (6.6, 3. , 4.4, 1.4, 'versicolor')\n",
      " (6.8, 2.8, 4.8, 1.4, 'versicolor') (6.7, 3. , 5. , 1.7, 'versicolor')\n",
      " (6. , 2.9, 4.5, 1.5, 'versicolor') (5.7, 2.6, 3.5, 1. , 'versicolor')\n",
      " (5.5, 2.4, 3.8, 1.1, 'versicolor') (5.5, 2.4, 3.7, 1. , 'versicolor')\n",
      " (5.8, 2.7, 3.9, 1.2, 'versicolor') (6. , 2.7, 5.1, 1.6, 'versicolor')\n",
      " (5.4, 3. , 4.5, 1.5, 'versicolor') (6. , 3.4, 4.5, 1.6, 'versicolor')\n",
      " (6.7, 3.1, 4.7, 1.5, 'versicolor') (6.3, 2.3, 4.4, 1.3, 'versicolor')\n",
      " (5.6, 3. , 4.1, 1.3, 'versicolor') (5.5, 2.5, 4. , 1.3, 'versicolor')\n",
      " (5.5, 2.6, 4.4, 1.2, 'versicolor') (6.1, 3. , 4.6, 1.4, 'versicolor')\n",
      " (5.8, 2.6, 4. , 1.2, 'versicolor') (5. , 2.3, 3.3, 1. , 'versicolor')\n",
      " (5.6, 2.7, 4.2, 1.3, 'versicolor') (5.7, 3. , 4.2, 1.2, 'versicolor')\n",
      " (5.7, 2.9, 4.2, 1.3, 'versicolor') (6.2, 2.9, 4.3, 1.3, 'versicolor')\n",
      " (5.1, 2.5, 3. , 1.1, 'versicolor') (5.7, 2.8, 4.1, 1.3, 'versicolor')\n",
      " (6.3, 3.3, 6. , 2.5, 'virginica') (5.8, 2.7, 5.1, 1.9, 'virginica')\n",
      " (7.1, 3. , 5.9, 2.1, 'virginica') (6.3, 2.9, 5.6, 1.8, 'virginica')\n",
      " (6.5, 3. , 5.8, 2.2, 'virginica') (7.6, 3. , 6.6, 2.1, 'virginica')\n",
      " (4.9, 2.5, 4.5, 1.7, 'virginica') (7.3, 2.9, 6.3, 1.8, 'virginica')\n",
      " (6.7, 2.5, 5.8, 1.8, 'virginica') (7.2, 3.6, 6.1, 2.5, 'virginica')\n",
      " (6.5, 3.2, 5.1, 2. , 'virginica') (6.4, 2.7, 5.3, 1.9, 'virginica')\n",
      " (6.8, 3. , 5.5, 2.1, 'virginica') (5.7, 2.5, 5. , 2. , 'virginica')\n",
      " (5.8, 2.8, 5.1, 2.4, 'virginica') (6.4, 3.2, 5.3, 2.3, 'virginica')\n",
      " (6.5, 3. , 5.5, 1.8, 'virginica') (7.7, 3.8, 6.7, 2.2, 'virginica')\n",
      " (7.7, 2.6, 6.9, 2.3, 'virginica') (6. , 2.2, 5. , 1.5, 'virginica')\n",
      " (6.9, 3.2, 5.7, 2.3, 'virginica') (5.6, 2.8, 4.9, 2. , 'virginica')\n",
      " (7.7, 2.8, 6.7, 2. , 'virginica') (6.3, 2.7, 4.9, 1.8, 'virginica')\n",
      " (6.7, 3.3, 5.7, 2.1, 'virginica') (7.2, 3.2, 6. , 1.8, 'virginica')\n",
      " (6.2, 2.8, 4.8, 1.8, 'virginica') (6.1, 3. , 4.9, 1.8, 'virginica')\n",
      " (6.4, 2.8, 5.6, 2.1, 'virginica') (7.2, 3. , 5.8, 1.6, 'virginica')\n",
      " (7.4, 2.8, 6.1, 1.9, 'virginica') (7.9, 3.8, 6.4, 2. , 'virginica')\n",
      " (6.4, 2.8, 5.6, 2.2, 'virginica') (6.3, 2.8, 5.1, 1.5, 'virginica')\n",
      " (6.1, 2.6, 5.6, 1.4, 'virginica') (7.7, 3. , 6.1, 2.3, 'virginica')\n",
      " (6.3, 3.4, 5.6, 2.4, 'virginica') (6.4, 3.1, 5.5, 1.8, 'virginica')\n",
      " (6. , 3. , 4.8, 1.8, 'virginica') (6.9, 3.1, 5.4, 2.1, 'virginica')\n",
      " (6.7, 3.1, 5.6, 2.4, 'virginica') (6.9, 3.1, 5.1, 2.3, 'virginica')\n",
      " (5.8, 2.7, 5.1, 1.9, 'virginica') (6.8, 3.2, 5.9, 2.3, 'virginica')\n",
      " (6.7, 3.3, 5.7, 2.5, 'virginica') (6.7, 3. , 5.2, 2.3, 'virginica')\n",
      " (6.3, 2.5, 5. , 1.9, 'virginica') (6.5, 3. , 5.2, 2. , 'virginica')\n",
      " (6.2, 3.4, 5.4, 2.3, 'virginica') (5.9, 3. , 5.1, 1.8, 'virginica')]\n"
     ]
    }
   ],
   "source": [
    "#this function is used becoz our dataset has different data types like numeric and non numeric \n",
    "import numpy as np\n",
    "\n",
    "# here's the dataset link https://www.kaggle.com/datasets/himanshunakrani/iris-dataset\n",
    "\n",
    "# Using genfromtxt for mixed data types (numeric + text)\n",
    "data = np.genfromtxt(r\"C:\\Users\\user\\Downloads\\iris.csv\", delimiter=\",\", dtype=None, encoding=\"utf-8\", skip_header=1)\n",
    "\n",
    "print(data)\n"
   ]
  },
  {
   "cell_type": "markdown",
   "id": "121532fb-74c6-4ef7-a1f9-e02126273bec",
   "metadata": {},
   "source": [
    "✅ Save a NumPy array to a file\n"
   ]
  },
  {
   "cell_type": "code",
   "execution_count": 109,
   "id": "233f846c-3723-4da2-a346-b2832ba52af5",
   "metadata": {},
   "outputs": [],
   "source": [
    "np.savetxt(\"output.csv\", data, delimiter=\",\", fmt=\"%s\")\n",
    "# fmt=\"%s\" is required when saving string-type data."
   ]
  },
  {
   "cell_type": "markdown",
   "id": "48e06940-8ce7-41a3-a7f9-89d06dc77f0b",
   "metadata": {},
   "source": [
    "1. Boolean Masking\n",
    "Create a mask of True/False values by applying a condition to the array:"
   ]
  },
  {
   "cell_type": "code",
   "execution_count": 113,
   "id": "f6461461-4302-4a5e-a2e2-7e5e35bb7e82",
   "metadata": {},
   "outputs": [
    {
     "name": "stdout",
     "output_type": "stream",
     "text": [
      "Rows with sepal length > 5.5:\n",
      " [[7.0 3.2 4.7 1.4 'versicolor']\n",
      " [6.3 3.3 6.0 2.5 'virginica']\n",
      " [5.8 2.7 5.1 1.9 'virginica']]\n",
      "\n",
      "Rows with species 'setosa':\n",
      " [[5.1 3.5 1.4 0.2 'setosa']\n",
      " [5.0 3.6 1.4 0.2 'setosa']]\n"
     ]
    }
   ],
   "source": [
    "import numpy as np\n",
    "\n",
    "# Toy dataset\n",
    "data = np.array([\n",
    "    [5.1, 3.5, 1.4, 0.2, \"setosa\"],\n",
    "    [7.0, 3.2, 4.7, 1.4, \"versicolor\"],\n",
    "    [6.3, 3.3, 6.0, 2.5, \"virginica\"],\n",
    "    [5.8, 2.7, 5.1, 1.9, \"virginica\"],\n",
    "    [5.0, 3.6, 1.4, 0.2, \"setosa\"]\n",
    "], dtype=object)\n",
    "\n",
    "# Split into numeric features and string labels\n",
    "features = data[:, :4].astype(float)   # shape (5,4)\n",
    "labels   = data[:, 4]                  # shape (5,)\n",
    "\n",
    "# 1) Mask for sepal length > 5.5 (column 0)\n",
    "mask_sepal = features[:, 0] > 5.5\n",
    "filtered_sepal = data[mask_sepal]\n",
    "print(\"Rows with sepal length > 5.5:\\n\", filtered_sepal)\n",
    "\n",
    "# 2) Mask for species == 'setosa'\n",
    "mask_setosa = labels == \"setosa\"\n",
    "filtered_setosa = data[mask_setosa]\n",
    "print(\"\\nRows with species 'setosa':\\n\", filtered_setosa)\n"
   ]
  },
  {
   "cell_type": "markdown",
   "id": "da738acf-d109-4ef8-b296-981bcdbecb64",
   "metadata": {},
   "source": [
    "## 1. Integer Array Indexing (“Fancy” indexing)\n",
    "\n",
    "You can pass an array (or list) of integer indices to select those rows or columns\n"
   ]
  },
  {
   "cell_type": "code",
   "execution_count": 115,
   "id": "787a2697-e862-4f84-bf0f-b35a80fd5bcb",
   "metadata": {},
   "outputs": [
    {
     "name": "stdout",
     "output_type": "stream",
     "text": [
      "[[ 0  1  2  3]\n",
      " [ 8  9 10 11]]\n",
      "[ 1  6 11]\n"
     ]
    }
   ],
   "source": [
    "a = np.arange(12).reshape(3,4)\n",
    "# a = [[ 0,  1,  2,  3],\n",
    "#      [ 4,  5,  6,  7],\n",
    "#      [ 8,  9, 10, 11]]\n",
    "\n",
    "# Pick rows 0 and 2:\n",
    "rows = np.array([0,2])\n",
    "print(a[rows])\n",
    "# -> [[ 0, 1, 2, 3],\n",
    "#     [ 8, 9,10,11]]\n",
    "\n",
    "# Pick elements at (0,1), (1,2), (2,3):\n",
    "row_idx = np.array([0,1,2])\n",
    "col_idx = np.array([1,2,3])\n",
    "print(a[row_idx, col_idx])\n",
    "# -> [1, 6, 11]"
   ]
  },
  {
   "cell_type": "markdown",
   "id": "05cfd01a-43dd-4432-9642-8712157c0d41",
   "metadata": {},
   "source": [
    "\n",
    "## 2. Combined Fancy & Slicing\n",
    "\n",
    "You can mix integer indexing with slices:\n"
   ]
  },
  {
   "cell_type": "code",
   "execution_count": 116,
   "id": "6115f730-31e1-4f28-a945-5efe28cb1340",
   "metadata": {},
   "outputs": [
    {
     "name": "stdout",
     "output_type": "stream",
     "text": [
      "[[ 1  3]\n",
      " [ 9 11]]\n"
     ]
    }
   ],
   "source": [
    "print(a[[0,2], 1:4:2])\n",
    "# -> [[ 1, 3],\n",
    "#     [ 9,11]]"
   ]
  },
  {
   "cell_type": "markdown",
   "id": "98e84168-14ea-4f02-95fa-cbff8d1be2ad",
   "metadata": {},
   "source": [
    "\n",
    "## 3. Using `np.ix_` for Cross-Product\n",
    "\n",
    "If you want the full cross‑product of two index sets:\n",
    "\n",
    "This is equivalent to picking rows 0&2 and columns 1&3 in a grid."
   ]
  },
  {
   "cell_type": "code",
   "execution_count": 118,
   "id": "e3bfe7cb-2d43-4233-a044-d7f039c359d0",
   "metadata": {},
   "outputs": [
    {
     "name": "stdout",
     "output_type": "stream",
     "text": [
      "[[ 1  3]\n",
      " [ 9 11]]\n"
     ]
    }
   ],
   "source": [
    "r = [0,2]\n",
    "c = [1,3]\n",
    "print(a[np.ix_(r,c)])\n",
    "# -> [[ 1,  3],\n",
    "#     [ 9, 11]]"
   ]
  },
  {
   "cell_type": "markdown",
   "id": "cda9727c-9335-45e4-98ca-b30cb87a8221",
   "metadata": {},
   "source": [
    "## 4. Boolean vs Fancy\n",
    "\n",
    "* **Boolean indexing** uses a mask of True/False.\n",
    "* **Fancy indexing** uses integer arrays of positions.\n",
    "\n"
   ]
  },
  {
   "cell_type": "code",
   "execution_count": null,
   "id": "a59fb5f6-8447-4a42-89f2-57daa60431c5",
   "metadata": {},
   "outputs": [],
   "source": [
    "mask = np.array([True, False, True])\n",
    "# Select rows 0 & 2, then pick columns [0,2,3]:\n",
    "print(a[mask][:, [0,2,3]])"
   ]
  },
  {
   "cell_type": "markdown",
   "id": "52b5c3d9-30bb-479b-bd77-22f0928039f1",
   "metadata": {},
   "source": [
    "\n",
    "## 5. Newaxis & Ellipsis\n",
    "\n",
    "* **`np.newaxis`** lets you increase dimensions:\n"
   ]
  },
  {
   "cell_type": "code",
   "execution_count": 121,
   "id": "f26b42d8-baeb-4199-a2fe-82db89b47812",
   "metadata": {},
   "outputs": [
    {
     "name": "stdout",
     "output_type": "stream",
     "text": [
      "[[1]\n",
      " [2]\n",
      " [3]]\n"
     ]
    }
   ],
   "source": [
    "  v = np.array([1,2,3])        # shape (3,)\n",
    "  v2 = v[:, np.newaxis]        # shape (3,1)\n",
    "  print(v2)"
   ]
  },
  {
   "cell_type": "markdown",
   "id": "9b19d469-a96f-47f7-8ddd-b7f096f414c3",
   "metadata": {},
   "source": [
    "* **`...` (ellipsis)** stands for “as many `:` as needed”:"
   ]
  },
  {
   "cell_type": "code",
   "execution_count": 122,
   "id": "fcf6db66-1b46-41c5-afc2-1850839efb5f",
   "metadata": {},
   "outputs": [
    {
     "data": {
      "text/plain": [
       "array([[ 2,  6, 10],\n",
       "       [14, 18, 22]])"
      ]
     },
     "execution_count": 122,
     "metadata": {},
     "output_type": "execute_result"
    }
   ],
   "source": [
    "  b = np.arange(24).reshape(2,3,4)\n",
    "  b[...,2]   # equivalent to b[:,:,2]"
   ]
  },
  {
   "cell_type": "code",
   "execution_count": null,
   "id": "8451bd41-a2ad-451e-8dcc-d47d3f2401c9",
   "metadata": {},
   "outputs": [],
   "source": []
  }
 ],
 "metadata": {
  "kernelspec": {
   "display_name": "Python 3 (ipykernel)",
   "language": "python",
   "name": "python3"
  },
  "language_info": {
   "codemirror_mode": {
    "name": "ipython",
    "version": 3
   },
   "file_extension": ".py",
   "mimetype": "text/x-python",
   "name": "python",
   "nbconvert_exporter": "python",
   "pygments_lexer": "ipython3",
   "version": "3.13.2"
  }
 },
 "nbformat": 4,
 "nbformat_minor": 5
}
